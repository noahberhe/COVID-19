{
 "cells": [
  {
   "cell_type": "markdown",
   "metadata": {},
   "source": [
    "# Topic Modelling\n",
    "- Post-processing tweets\n",
    "- Applying LDA"
   ]
  },
  {
   "cell_type": "markdown",
   "metadata": {},
   "source": [
    "## Load packages and tweets"
   ]
  },
  {
   "cell_type": "code",
   "execution_count": 1,
   "metadata": {
    "ExecuteTime": {
     "end_time": "2021-03-09T20:37:14.699950Z",
     "start_time": "2021-03-09T20:37:13.024853Z"
    }
   },
   "outputs": [],
   "source": [
    "import glob\n",
    "import pandas as pd\n",
    "import numpy as np\n",
    "import matplotlib.pyplot as plt"
   ]
  },
  {
   "cell_type": "code",
   "execution_count": 2,
   "metadata": {
    "ExecuteTime": {
     "end_time": "2021-03-09T20:37:17.718398Z",
     "start_time": "2021-03-09T20:37:17.709699Z"
    }
   },
   "outputs": [],
   "source": [
    "def csv_compiler(folder='./data/tweets_*.csv'):\n",
    "    '''Import files as specified in input and collate into one DataFrame\n",
    "    Args: folder, str. filepath relative to current folder, with optional pattern recognition\n",
    "    Returns: DataFrame of collated data\n",
    "    '''\n",
    "    df = pd.concat([pd.read_csv('{}'.format(filepath), parse_dates=['date']) for filepath in glob.iglob(folder)],\n",
    "                   ignore_index=True)\n",
    "    df.sort_values(\"date\", inplace=True)\n",
    "    df.drop_duplicates(subset=\"tweet_id\", ignore_index=True, inplace=True)\n",
    "    return df"
   ]
  },
  {
   "cell_type": "code",
   "execution_count": 3,
   "metadata": {
    "ExecuteTime": {
     "end_time": "2021-03-09T20:37:31.607362Z",
     "start_time": "2021-03-09T20:37:18.414690Z"
    }
   },
   "outputs": [],
   "source": [
    "tweets = csv_compiler()\n",
    "\n",
    "cases = pd.read_csv('./data/UKDailyConfirmedCases.csv')\n",
    "cases['DateVal'] = pd.to_datetime(cases['DateVal'], format='%d/%m/%Y')\n",
    "cases.rename(columns={'CMODateCount':'DailyCases'}, inplace=True)"
   ]
  },
  {
   "cell_type": "markdown",
   "metadata": {},
   "source": [
    "## Preparing the Corpus"
   ]
  },
  {
   "cell_type": "code",
   "execution_count": 4,
   "metadata": {
    "ExecuteTime": {
     "end_time": "2021-03-09T20:37:31.994066Z",
     "start_time": "2021-03-09T20:37:31.811181Z"
    }
   },
   "outputs": [],
   "source": [
    "compileddoc = [tweet for tweet in tweets.text] # compile tweets into one list / corpus"
   ]
  },
  {
   "cell_type": "code",
   "execution_count": 6,
   "metadata": {
    "ExecuteTime": {
     "end_time": "2021-03-09T20:39:20.233201Z",
     "start_time": "2021-03-09T20:37:40.344758Z"
    }
   },
   "outputs": [
    {
     "name": "stderr",
     "output_type": "stream",
     "text": [
      "[nltk_data] Downloading package stopwords to /Users/Noah/nltk_data...\n",
      "[nltk_data]   Package stopwords is already up-to-date!\n"
     ]
    }
   ],
   "source": [
    "import string\n",
    "\n",
    "import nltk\n",
    "from nltk.tokenize import word_tokenize\n",
    "\n",
    "from nltk.stem import WordNetLemmatizer \n",
    "from nltk.corpus import stopwords\n",
    "nltk.download('stopwords')\n",
    "\n",
    "stopwords = set(stopwords.words('english'))\n",
    "exclude = set(string.punctuation)\n",
    "lemma = WordNetLemmatizer()\n",
    "\n",
    "def clean(document):\n",
    "    '''Preprocessing each tweet'''\n",
    "    stopwordremoval = \" \".join([i for i in document.lower().split() if i not in stopwords])\n",
    "    punctuationremoval = ''.join(ch for ch in stopwordremoval if ch not in exclude)\n",
    "    normalized = \" \".join(lemma.lemmatize(word) for word in punctuationremoval.split())\n",
    "    return normalized\n",
    "\n",
    "final_doc = [clean(document).split() for document in compileddoc]"
   ]
  },
  {
   "cell_type": "markdown",
   "metadata": {},
   "source": [
    "## Preparing the LDA Model"
   ]
  },
  {
   "cell_type": "code",
   "execution_count": 7,
   "metadata": {
    "ExecuteTime": {
     "end_time": "2021-03-09T20:41:06.700626Z",
     "start_time": "2021-03-09T20:40:13.854691Z"
    }
   },
   "outputs": [],
   "source": [
    "import gensim\n",
    "from gensim import corpora\n",
    "from gensim.corpora.dictionary import Dictionary\n",
    "from nltk.tokenize import word_tokenize\n",
    "\n",
    "dictionary = corpora.Dictionary(final_doc) # creating a term dictionary, where each term is assigned an index\n",
    "\n",
    "DT_matrix = [dictionary.doc2bow(doc) for doc in final_doc] # converting the corpus into a document-term matrix\n",
    "\n",
    "Lda_object = gensim.models.ldamodel.LdaModel # object for the LDA Model"
   ]
  },
  {
   "cell_type": "markdown",
   "metadata": {},
   "source": [
    "## Training the LDA Model"
   ]
  },
  {
   "cell_type": "code",
   "execution_count": 10,
   "metadata": {
    "ExecuteTime": {
     "end_time": "2021-03-10T08:44:59.166416Z",
     "start_time": "2021-03-10T08:37:56.856846Z"
    }
   },
   "outputs": [
    {
     "name": "stdout",
     "output_type": "stream",
     "text": [
      "[(0, '0.022*\"covid19\"'), (1, '0.038*\"coronavirus\"'), (2, '0.032*\"covid19\"'), (3, '0.041*\"covid19\"'), (4, '0.218*\"covid\"'), (5, '0.051*\"cummings\"'), (6, '0.070*\"covid19\"'), (7, '0.037*\"death\"'), (8, '0.067*\"lockdown\"'), (9, '0.031*\"covid19\"')]\n"
     ]
    }
   ],
   "source": [
    "lda_model_1 = Lda_object(DT_matrix, num_topics=10, id2word=dictionary) # training LDA on the DT Matrix\n",
    "print(lda_model_1.print_topics(num_topics=10, num_words=1)) # printing topics found, and the words associated"
   ]
  },
  {
   "cell_type": "code",
   "execution_count": null,
   "metadata": {},
   "outputs": [],
   "source": []
  }
 ],
 "metadata": {
  "kernelspec": {
   "display_name": "nlp_architect",
   "language": "python",
   "name": "nlp_architect"
  },
  "language_info": {
   "codemirror_mode": {
    "name": "ipython",
    "version": 3
   },
   "file_extension": ".py",
   "mimetype": "text/x-python",
   "name": "python",
   "nbconvert_exporter": "python",
   "pygments_lexer": "ipython3",
   "version": "3.9.2"
  },
  "toc": {
   "base_numbering": 1,
   "nav_menu": {},
   "number_sections": true,
   "sideBar": true,
   "skip_h1_title": false,
   "title_cell": "Table of Contents",
   "title_sidebar": "Contents",
   "toc_cell": false,
   "toc_position": {},
   "toc_section_display": true,
   "toc_window_display": false
  },
  "varInspector": {
   "cols": {
    "lenName": 16,
    "lenType": 16,
    "lenVar": 40
   },
   "kernels_config": {
    "python": {
     "delete_cmd_postfix": "",
     "delete_cmd_prefix": "del ",
     "library": "var_list.py",
     "varRefreshCmd": "print(var_dic_list())"
    },
    "r": {
     "delete_cmd_postfix": ") ",
     "delete_cmd_prefix": "rm(",
     "library": "var_list.r",
     "varRefreshCmd": "cat(var_dic_list()) "
    }
   },
   "types_to_exclude": [
    "module",
    "function",
    "builtin_function_or_method",
    "instance",
    "_Feature"
   ],
   "window_display": false
  }
 },
 "nbformat": 4,
 "nbformat_minor": 4
}
